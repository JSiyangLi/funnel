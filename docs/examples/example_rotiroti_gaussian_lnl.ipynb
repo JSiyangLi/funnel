{
 "cells": [
  {
   "cell_type": "code",
   "outputs": [],
   "source": [
    "import numpy as np\n",
    "from numpy import sqrt, exp, pi, sum, sin, log, abs\n",
    "from bilby.core.prior import Normal\n",
    "\n",
    "\n",
    "\n",
    "SQRT_2_PI = sqrt(2 * pi)\n",
    "\n",
    "\n",
    "def z(x):\n",
    "    n = len(x)\n",
    "    xbar = np.mean(x)\n",
    "    part1 = 1 / (sqrt(n + 1))\n",
    "    part2 = (1 / SQRT_2_PI) ** n\n",
    "    exp_part = -0.5 * sum(x ** 2 + 0.5 * ((n * xbar) ** 2) / (n + 1))\n",
    "    part3 = exp(exp_part)\n",
    "    return part1 * part2 * part3\n",
    "\n",
    "def lnz(x):\n",
    "    n = len(x)\n",
    "    xbar = np.mean(x)\n",
    "    part1 = -0.5 * log(n + 1) \n",
    "    part2 = -n * log(SQRT_2_PI)\n",
    "    exp_part = -0.5 * sum(x ** 2 + 0.5 * ((n * xbar) ** 2) / (n + 1))\n",
    "    return part1 + part2 + exp_part\n",
    "\n",
    "def likelihood(x, θ):\n",
    "    n = len(x)\n",
    "    part1 = (1 / SQRT_2_PI) ** n\n",
    "    exp_part = -0.5 * sum((x - θ) ** 2)\n",
    "    part2 = exp(exp_part)\n",
    "    return part1 * part2\n",
    "\n",
    "def lnl(x, θ):\n",
    "    n = len(x)\n",
    "    part1 = -n * log(SQRT_2_PI)\n",
    "    exp_part = -0.5 * sum((x - θ) ** 2)\n",
    "    return part1 + exp_part\n",
    "\n",
    "def get_posterior_pdf(x):\n",
    "    n = len(x)\n",
    "    xbar = np.mean(x)\n",
    "    mean = (n * xbar) / (n + 1)\n",
    "    var = 1 / (n + 1)\n",
    "    std = sqrt(var)\n",
    "    return Normal(mu=mean, sigma=std)\n",
    "\n",
    "\n",
    "def posterior(x, θ):\n",
    "    return get_posterior_pdf(x).prob(θ)\n",
    "\n",
    "def lnposterior(x, θ):\n",
    "    return get_posterior_pdf(x).ln_prob(θ)\n",
    "\n",
    "def lnprior(θ):\n",
    "    return Normal(mu=0, sigma=1).ln_prob(θ)\n",
    "\n",
    "def sample_posterior(x, size=int(10 ** 6)):\n",
    "    return get_posterior_pdf(x).sample(size=size)\n",
    "\n",
    "def fi_post(R, θ, θstar):\n",
    "    M = len(θ)\n",
    "    θstar_θ = θstar - θ\n",
    "    return sum(sin(R * θstar_θ) / θstar_θ) / (M * pi)\n",
    "\n",
    "def ln_fi_z(x, R, θ):\n",
    "    θstar = np.mean(x)\n",
    "    post = fi_post(R, θ, θstar)\n",
    "    return lnl(x, θstar) +  lnprior(θstar) - log(post)\n",
    "\n",
    "\n",
    "ROTIROTI_LNZ = -65.9905\n",
    "n_expts = 500\n",
    "\n",
    "R = 20\n",
    "n = 50\n",
    "M = 10 ** 6\n",
    "\n",
    "lnfizs = np.zeros(n_expts)\n",
    "lnzs = np.zeros(n_expts)\n",
    "for i in range(n_expts):\n",
    "    np.random.seed(i)\n",
    "    x = Normal(mu=0, sigma=1).sample(n)\n",
    "    θ = sample_posterior(x, size=M)\n",
    "    lnfizs[i] = (ln_fi_z(x, R, θ))\n",
    "    lnzs[i] = (lnz(x))\n",
    "    \n"
   ],
   "metadata": {
    "collapsed": false,
    "ExecuteTime": {
     "end_time": "2024-02-28T06:36:00.904799184Z",
     "start_time": "2024-02-28T06:35:42.146089942Z"
    }
   },
   "id": "94f6c87d7664fca3",
   "execution_count": 76
  },
  {
   "cell_type": "code",
   "outputs": [
    {
     "data": {
      "text/plain": "<Figure size 640x480 with 1 Axes>",
      "image/png": "[encoded data removed]"
     },
     "metadata": {},
     "output_type": "display_data"
    }
   ],
   "source": [
    "import matplotlib.pyplot as plt\n",
    "bins = np.linspace(-140, -55, 30)\n",
    "plt.hist(lnfizs, bins=bins, alpha=0.5, label=\"fi lnz\", color=\"r\", histtype=\"step\")\n",
    "plt.hist(lnzs, bins=bins, alpha=0.5, label=\"Analytical lnz\", color=\"b\", histtype=\"step\")\n",
    "plt.axvline(ROTIROTI_LNZ, color=\"k\", label=\"Rotiroti lnz\")\n",
    "plt.xlabel(\"lnz\")\n",
    "_= plt.legend()"
   ],
   "metadata": {
    "collapsed": false,
    "ExecuteTime": {
     "end_time": "2024-02-28T06:42:19.810218730Z",
     "start_time": "2024-02-28T06:42:19.617020695Z"
    }
   },
   "id": "9be4f3a540cf7b54",
   "execution_count": 80
  },
  {
   "cell_type": "code",
   "outputs": [],
   "source": [],
   "metadata": {
    "collapsed": false
   },
   "id": "3b9b47feb6d3ef93"
  }
 ],
 "metadata": {
  "kernelspec": {
   "display_name": "Python 3",
   "language": "python",
   "name": "python3"
  },
  "language_info": {
   "codemirror_mode": {
    "name": "ipython",
    "version": 2
   },
   "file_extension": ".py",
   "mimetype": "text/x-python",
   "name": "python",
   "nbconvert_exporter": "python",
   "pygments_lexer": "ipython2",
   "version": "2.7.6"
  }
 },
 "nbformat": 4,
 "nbformat_minor": 5
}
